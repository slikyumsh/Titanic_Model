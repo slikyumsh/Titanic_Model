{
 "cells": [
  {
   "cell_type": "code",
   "execution_count": 103,
   "metadata": {
    "collapsed": true
   },
   "outputs": [],
   "source": [
    "import pandas as pd\n",
    "import numpy"
   ]
  },
  {
   "cell_type": "markdown",
   "source": [
    "## Read data and get information about it"
   ],
   "metadata": {
    "collapsed": false,
    "pycharm": {
     "name": "#%% md\n"
    }
   }
  },
  {
   "cell_type": "code",
   "execution_count": 104,
   "outputs": [],
   "source": [
    "data = pd.read_csv(\"train_and_test2.csv\")"
   ],
   "metadata": {
    "collapsed": false,
    "pycharm": {
     "name": "#%%\n"
    }
   }
  },
  {
   "cell_type": "code",
   "execution_count": 105,
   "outputs": [
    {
     "data": {
      "text/plain": "   Passengerid   Age  Fare  Sex  sibsp  zero  zero.1  zero.2  zero.3  zero.4  \\\n0            1 22.00  7.25    0      1     0       0       0       0       0   \n1            2 38.00 71.28    1      1     0       0       0       0       0   \n2            3 26.00  7.92    1      0     0       0       0       0       0   \n3            4 35.00 53.10    1      1     0       0       0       0       0   \n4            5 35.00  8.05    0      0     0       0       0       0       0   \n\n   ...  zero.12  zero.13  zero.14  Pclass  zero.15  zero.16  Embarked  \\\n0  ...        0        0        0       3        0        0      2.00   \n1  ...        0        0        0       1        0        0      0.00   \n2  ...        0        0        0       3        0        0      2.00   \n3  ...        0        0        0       1        0        0      2.00   \n4  ...        0        0        0       3        0        0      2.00   \n\n   zero.17  zero.18  2urvived  \n0        0        0         0  \n1        0        0         1  \n2        0        0         1  \n3        0        0         1  \n4        0        0         0  \n\n[5 rows x 28 columns]",
      "text/html": "<div>\n<style scoped>\n    .dataframe tbody tr th:only-of-type {\n        vertical-align: middle;\n    }\n\n    .dataframe tbody tr th {\n        vertical-align: top;\n    }\n\n    .dataframe thead th {\n        text-align: right;\n    }\n</style>\n<table border=\"1\" class=\"dataframe\">\n  <thead>\n    <tr style=\"text-align: right;\">\n      <th></th>\n      <th>Passengerid</th>\n      <th>Age</th>\n      <th>Fare</th>\n      <th>Sex</th>\n      <th>sibsp</th>\n      <th>zero</th>\n      <th>zero.1</th>\n      <th>zero.2</th>\n      <th>zero.3</th>\n      <th>zero.4</th>\n      <th>...</th>\n      <th>zero.12</th>\n      <th>zero.13</th>\n      <th>zero.14</th>\n      <th>Pclass</th>\n      <th>zero.15</th>\n      <th>zero.16</th>\n      <th>Embarked</th>\n      <th>zero.17</th>\n      <th>zero.18</th>\n      <th>2urvived</th>\n    </tr>\n  </thead>\n  <tbody>\n    <tr>\n      <th>0</th>\n      <td>1</td>\n      <td>22.00</td>\n      <td>7.25</td>\n      <td>0</td>\n      <td>1</td>\n      <td>0</td>\n      <td>0</td>\n      <td>0</td>\n      <td>0</td>\n      <td>0</td>\n      <td>...</td>\n      <td>0</td>\n      <td>0</td>\n      <td>0</td>\n      <td>3</td>\n      <td>0</td>\n      <td>0</td>\n      <td>2.00</td>\n      <td>0</td>\n      <td>0</td>\n      <td>0</td>\n    </tr>\n    <tr>\n      <th>1</th>\n      <td>2</td>\n      <td>38.00</td>\n      <td>71.28</td>\n      <td>1</td>\n      <td>1</td>\n      <td>0</td>\n      <td>0</td>\n      <td>0</td>\n      <td>0</td>\n      <td>0</td>\n      <td>...</td>\n      <td>0</td>\n      <td>0</td>\n      <td>0</td>\n      <td>1</td>\n      <td>0</td>\n      <td>0</td>\n      <td>0.00</td>\n      <td>0</td>\n      <td>0</td>\n      <td>1</td>\n    </tr>\n    <tr>\n      <th>2</th>\n      <td>3</td>\n      <td>26.00</td>\n      <td>7.92</td>\n      <td>1</td>\n      <td>0</td>\n      <td>0</td>\n      <td>0</td>\n      <td>0</td>\n      <td>0</td>\n      <td>0</td>\n      <td>...</td>\n      <td>0</td>\n      <td>0</td>\n      <td>0</td>\n      <td>3</td>\n      <td>0</td>\n      <td>0</td>\n      <td>2.00</td>\n      <td>0</td>\n      <td>0</td>\n      <td>1</td>\n    </tr>\n    <tr>\n      <th>3</th>\n      <td>4</td>\n      <td>35.00</td>\n      <td>53.10</td>\n      <td>1</td>\n      <td>1</td>\n      <td>0</td>\n      <td>0</td>\n      <td>0</td>\n      <td>0</td>\n      <td>0</td>\n      <td>...</td>\n      <td>0</td>\n      <td>0</td>\n      <td>0</td>\n      <td>1</td>\n      <td>0</td>\n      <td>0</td>\n      <td>2.00</td>\n      <td>0</td>\n      <td>0</td>\n      <td>1</td>\n    </tr>\n    <tr>\n      <th>4</th>\n      <td>5</td>\n      <td>35.00</td>\n      <td>8.05</td>\n      <td>0</td>\n      <td>0</td>\n      <td>0</td>\n      <td>0</td>\n      <td>0</td>\n      <td>0</td>\n      <td>0</td>\n      <td>...</td>\n      <td>0</td>\n      <td>0</td>\n      <td>0</td>\n      <td>3</td>\n      <td>0</td>\n      <td>0</td>\n      <td>2.00</td>\n      <td>0</td>\n      <td>0</td>\n      <td>0</td>\n    </tr>\n  </tbody>\n</table>\n<p>5 rows × 28 columns</p>\n</div>"
     },
     "execution_count": 105,
     "metadata": {},
     "output_type": "execute_result"
    }
   ],
   "source": [
    "data.head(5)"
   ],
   "metadata": {
    "collapsed": false,
    "pycharm": {
     "name": "#%%\n"
    }
   }
  },
  {
   "cell_type": "code",
   "execution_count": 106,
   "outputs": [
    {
     "data": {
      "text/plain": "(1309, 28)"
     },
     "execution_count": 106,
     "metadata": {},
     "output_type": "execute_result"
    }
   ],
   "source": [
    "data.shape"
   ],
   "metadata": {
    "collapsed": false,
    "pycharm": {
     "name": "#%%\n"
    }
   }
  },
  {
   "cell_type": "code",
   "execution_count": 107,
   "outputs": [
    {
     "data": {
      "text/plain": "<bound method NDFrame.describe of       Passengerid   Age   Fare  Sex  sibsp  zero  zero.1  zero.2  zero.3  \\\n0               1 22.00   7.25    0      1     0       0       0       0   \n1               2 38.00  71.28    1      1     0       0       0       0   \n2               3 26.00   7.92    1      0     0       0       0       0   \n3               4 35.00  53.10    1      1     0       0       0       0   \n4               5 35.00   8.05    0      0     0       0       0       0   \n...           ...   ...    ...  ...    ...   ...     ...     ...     ...   \n1304         1305 28.00   8.05    0      0     0       0       0       0   \n1305         1306 39.00 108.90    1      0     0       0       0       0   \n1306         1307 38.50   7.25    0      0     0       0       0       0   \n1307         1308 28.00   8.05    0      0     0       0       0       0   \n1308         1309 28.00  22.36    0      1     0       0       0       0   \n\n      zero.4  ...  zero.12  zero.13  zero.14  Pclass  zero.15  zero.16  \\\n0          0  ...        0        0        0       3        0        0   \n1          0  ...        0        0        0       1        0        0   \n2          0  ...        0        0        0       3        0        0   \n3          0  ...        0        0        0       1        0        0   \n4          0  ...        0        0        0       3        0        0   \n...      ...  ...      ...      ...      ...     ...      ...      ...   \n1304       0  ...        0        0        0       3        0        0   \n1305       0  ...        0        0        0       1        0        0   \n1306       0  ...        0        0        0       3        0        0   \n1307       0  ...        0        0        0       3        0        0   \n1308       0  ...        0        0        0       3        0        0   \n\n      Embarked  zero.17  zero.18  2urvived  \n0         2.00        0        0         0  \n1         0.00        0        0         1  \n2         2.00        0        0         1  \n3         2.00        0        0         1  \n4         2.00        0        0         0  \n...        ...      ...      ...       ...  \n1304      2.00        0        0         0  \n1305      0.00        0        0         0  \n1306      2.00        0        0         0  \n1307      2.00        0        0         0  \n1308      0.00        0        0         0  \n\n[1309 rows x 28 columns]>"
     },
     "execution_count": 107,
     "metadata": {},
     "output_type": "execute_result"
    }
   ],
   "source": [
    "data.describe"
   ],
   "metadata": {
    "collapsed": false,
    "pycharm": {
     "name": "#%%\n"
    }
   }
  },
  {
   "cell_type": "markdown",
   "source": [
    "## Data preprocessing"
   ],
   "metadata": {
    "collapsed": false,
    "pycharm": {
     "name": "#%% md\n"
    }
   }
  },
  {
   "cell_type": "code",
   "execution_count": 108,
   "outputs": [],
   "source": [
    "column_names_to_remove = []\n",
    "for i in range(0, len(data.columns)):\n",
    "    if str(data.columns[i]).find(\"zero\") != -1:\n",
    "        column_names_to_remove.append(data.columns[i])\n",
    "\n",
    "data = data.drop(labels=column_names_to_remove, axis=1)"
   ],
   "metadata": {
    "collapsed": false,
    "pycharm": {
     "name": "#%%\n"
    }
   }
  },
  {
   "cell_type": "code",
   "execution_count": 109,
   "outputs": [
    {
     "data": {
      "text/plain": "       Age   Fare  Sex  sibsp  Parch  Pclass  Embarked  survived\n0    22.00   7.25    0      1      0       3      2.00         0\n1    38.00  71.28    1      1      0       1      0.00         1\n2    26.00   7.92    1      0      0       3      2.00         1\n3    35.00  53.10    1      1      0       1      2.00         1\n4    35.00   8.05    0      0      0       3      2.00         0\n...    ...    ...  ...    ...    ...     ...       ...       ...\n1304 28.00   8.05    0      0      0       3      2.00         0\n1305 39.00 108.90    1      0      0       1      0.00         0\n1306 38.50   7.25    0      0      0       3      2.00         0\n1307 28.00   8.05    0      0      0       3      2.00         0\n1308 28.00  22.36    0      1      1       3      0.00         0\n\n[1309 rows x 8 columns]",
      "text/html": "<div>\n<style scoped>\n    .dataframe tbody tr th:only-of-type {\n        vertical-align: middle;\n    }\n\n    .dataframe tbody tr th {\n        vertical-align: top;\n    }\n\n    .dataframe thead th {\n        text-align: right;\n    }\n</style>\n<table border=\"1\" class=\"dataframe\">\n  <thead>\n    <tr style=\"text-align: right;\">\n      <th></th>\n      <th>Age</th>\n      <th>Fare</th>\n      <th>Sex</th>\n      <th>sibsp</th>\n      <th>Parch</th>\n      <th>Pclass</th>\n      <th>Embarked</th>\n      <th>survived</th>\n    </tr>\n  </thead>\n  <tbody>\n    <tr>\n      <th>0</th>\n      <td>22.00</td>\n      <td>7.25</td>\n      <td>0</td>\n      <td>1</td>\n      <td>0</td>\n      <td>3</td>\n      <td>2.00</td>\n      <td>0</td>\n    </tr>\n    <tr>\n      <th>1</th>\n      <td>38.00</td>\n      <td>71.28</td>\n      <td>1</td>\n      <td>1</td>\n      <td>0</td>\n      <td>1</td>\n      <td>0.00</td>\n      <td>1</td>\n    </tr>\n    <tr>\n      <th>2</th>\n      <td>26.00</td>\n      <td>7.92</td>\n      <td>1</td>\n      <td>0</td>\n      <td>0</td>\n      <td>3</td>\n      <td>2.00</td>\n      <td>1</td>\n    </tr>\n    <tr>\n      <th>3</th>\n      <td>35.00</td>\n      <td>53.10</td>\n      <td>1</td>\n      <td>1</td>\n      <td>0</td>\n      <td>1</td>\n      <td>2.00</td>\n      <td>1</td>\n    </tr>\n    <tr>\n      <th>4</th>\n      <td>35.00</td>\n      <td>8.05</td>\n      <td>0</td>\n      <td>0</td>\n      <td>0</td>\n      <td>3</td>\n      <td>2.00</td>\n      <td>0</td>\n    </tr>\n    <tr>\n      <th>...</th>\n      <td>...</td>\n      <td>...</td>\n      <td>...</td>\n      <td>...</td>\n      <td>...</td>\n      <td>...</td>\n      <td>...</td>\n      <td>...</td>\n    </tr>\n    <tr>\n      <th>1304</th>\n      <td>28.00</td>\n      <td>8.05</td>\n      <td>0</td>\n      <td>0</td>\n      <td>0</td>\n      <td>3</td>\n      <td>2.00</td>\n      <td>0</td>\n    </tr>\n    <tr>\n      <th>1305</th>\n      <td>39.00</td>\n      <td>108.90</td>\n      <td>1</td>\n      <td>0</td>\n      <td>0</td>\n      <td>1</td>\n      <td>0.00</td>\n      <td>0</td>\n    </tr>\n    <tr>\n      <th>1306</th>\n      <td>38.50</td>\n      <td>7.25</td>\n      <td>0</td>\n      <td>0</td>\n      <td>0</td>\n      <td>3</td>\n      <td>2.00</td>\n      <td>0</td>\n    </tr>\n    <tr>\n      <th>1307</th>\n      <td>28.00</td>\n      <td>8.05</td>\n      <td>0</td>\n      <td>0</td>\n      <td>0</td>\n      <td>3</td>\n      <td>2.00</td>\n      <td>0</td>\n    </tr>\n    <tr>\n      <th>1308</th>\n      <td>28.00</td>\n      <td>22.36</td>\n      <td>0</td>\n      <td>1</td>\n      <td>1</td>\n      <td>3</td>\n      <td>0.00</td>\n      <td>0</td>\n    </tr>\n  </tbody>\n</table>\n<p>1309 rows × 8 columns</p>\n</div>"
     },
     "execution_count": 109,
     "metadata": {},
     "output_type": "execute_result"
    }
   ],
   "source": [
    "data = data.drop(labels='Passengerid', axis=1)\n",
    "data.rename(columns={\"2urvived\":\"survived\"}, inplace=True)\n",
    "data"
   ],
   "metadata": {
    "collapsed": false,
    "pycharm": {
     "name": "#%%\n"
    }
   }
  },
  {
   "cell_type": "code",
   "execution_count": 112,
   "outputs": [
    {
     "name": "stdout",
     "output_type": "stream",
     "text": [
      "Embarked\n"
     ]
    },
    {
     "data": {
      "text/plain": "(1307, 8)"
     },
     "execution_count": 112,
     "metadata": {},
     "output_type": "execute_result"
    }
   ],
   "source": [
    "import math\n",
    "for i in range(0, len(data.columns)):\n",
    "    if data[data.columns[i]].isnull().any():\n",
    "        print(data.columns[i])\n",
    "        for j in range(0, data.shape[0]):\n",
    "            if math.isnan(data[data.columns[i]][j]):\n",
    "                data = data.drop(j)\n",
    "data.shape"
   ],
   "metadata": {
    "collapsed": false,
    "pycharm": {
     "name": "#%%\n"
    }
   }
  },
  {
   "cell_type": "code",
   "execution_count": 113,
   "outputs": [],
   "source": [
    "y = data[\"survived\"].values\n",
    "data = data.drop(labels=\"survived\", axis=1)\n",
    "X = data.values"
   ],
   "metadata": {
    "collapsed": false,
    "pycharm": {
     "name": "#%%\n"
    }
   }
  },
  {
   "cell_type": "code",
   "execution_count": 114,
   "outputs": [
    {
     "data": {
      "text/plain": "        0    1    2    3    4    5    6\n0    0.27 0.01 0.00 0.12 0.00 1.00 1.00\n1    0.47 0.14 1.00 0.12 0.00 0.00 0.00\n2    0.32 0.02 1.00 0.00 0.00 1.00 1.00\n3    0.44 0.10 1.00 0.12 0.00 0.00 1.00\n4    0.44 0.02 0.00 0.00 0.00 1.00 1.00\n...   ...  ...  ...  ...  ...  ...  ...\n1302 0.35 0.02 0.00 0.00 0.00 1.00 1.00\n1303 0.49 0.21 1.00 0.00 0.00 0.00 0.00\n1304 0.48 0.01 0.00 0.00 0.00 1.00 1.00\n1305 0.35 0.02 0.00 0.00 0.00 1.00 1.00\n1306 0.35 0.04 0.00 0.12 0.11 1.00 0.00\n\n[1307 rows x 7 columns]",
      "text/html": "<div>\n<style scoped>\n    .dataframe tbody tr th:only-of-type {\n        vertical-align: middle;\n    }\n\n    .dataframe tbody tr th {\n        vertical-align: top;\n    }\n\n    .dataframe thead th {\n        text-align: right;\n    }\n</style>\n<table border=\"1\" class=\"dataframe\">\n  <thead>\n    <tr style=\"text-align: right;\">\n      <th></th>\n      <th>0</th>\n      <th>1</th>\n      <th>2</th>\n      <th>3</th>\n      <th>4</th>\n      <th>5</th>\n      <th>6</th>\n    </tr>\n  </thead>\n  <tbody>\n    <tr>\n      <th>0</th>\n      <td>0.27</td>\n      <td>0.01</td>\n      <td>0.00</td>\n      <td>0.12</td>\n      <td>0.00</td>\n      <td>1.00</td>\n      <td>1.00</td>\n    </tr>\n    <tr>\n      <th>1</th>\n      <td>0.47</td>\n      <td>0.14</td>\n      <td>1.00</td>\n      <td>0.12</td>\n      <td>0.00</td>\n      <td>0.00</td>\n      <td>0.00</td>\n    </tr>\n    <tr>\n      <th>2</th>\n      <td>0.32</td>\n      <td>0.02</td>\n      <td>1.00</td>\n      <td>0.00</td>\n      <td>0.00</td>\n      <td>1.00</td>\n      <td>1.00</td>\n    </tr>\n    <tr>\n      <th>3</th>\n      <td>0.44</td>\n      <td>0.10</td>\n      <td>1.00</td>\n      <td>0.12</td>\n      <td>0.00</td>\n      <td>0.00</td>\n      <td>1.00</td>\n    </tr>\n    <tr>\n      <th>4</th>\n      <td>0.44</td>\n      <td>0.02</td>\n      <td>0.00</td>\n      <td>0.00</td>\n      <td>0.00</td>\n      <td>1.00</td>\n      <td>1.00</td>\n    </tr>\n    <tr>\n      <th>...</th>\n      <td>...</td>\n      <td>...</td>\n      <td>...</td>\n      <td>...</td>\n      <td>...</td>\n      <td>...</td>\n      <td>...</td>\n    </tr>\n    <tr>\n      <th>1302</th>\n      <td>0.35</td>\n      <td>0.02</td>\n      <td>0.00</td>\n      <td>0.00</td>\n      <td>0.00</td>\n      <td>1.00</td>\n      <td>1.00</td>\n    </tr>\n    <tr>\n      <th>1303</th>\n      <td>0.49</td>\n      <td>0.21</td>\n      <td>1.00</td>\n      <td>0.00</td>\n      <td>0.00</td>\n      <td>0.00</td>\n      <td>0.00</td>\n    </tr>\n    <tr>\n      <th>1304</th>\n      <td>0.48</td>\n      <td>0.01</td>\n      <td>0.00</td>\n      <td>0.00</td>\n      <td>0.00</td>\n      <td>1.00</td>\n      <td>1.00</td>\n    </tr>\n    <tr>\n      <th>1305</th>\n      <td>0.35</td>\n      <td>0.02</td>\n      <td>0.00</td>\n      <td>0.00</td>\n      <td>0.00</td>\n      <td>1.00</td>\n      <td>1.00</td>\n    </tr>\n    <tr>\n      <th>1306</th>\n      <td>0.35</td>\n      <td>0.04</td>\n      <td>0.00</td>\n      <td>0.12</td>\n      <td>0.11</td>\n      <td>1.00</td>\n      <td>0.00</td>\n    </tr>\n  </tbody>\n</table>\n<p>1307 rows × 7 columns</p>\n</div>"
     },
     "execution_count": 114,
     "metadata": {},
     "output_type": "execute_result"
    }
   ],
   "source": [
    "import pandas as pd\n",
    "from sklearn import preprocessing\n",
    "\n",
    "x = data.values\n",
    "min_max_scaler = preprocessing.MinMaxScaler()\n",
    "x_scaled = min_max_scaler.fit_transform(x)\n",
    "data = pd.DataFrame(x_scaled)\n",
    "data"
   ],
   "metadata": {
    "collapsed": false,
    "pycharm": {
     "name": "#%%\n"
    }
   }
  },
  {
   "cell_type": "code",
   "execution_count": 115,
   "outputs": [],
   "source": [
    "from sklearn.decomposition import PCA"
   ],
   "metadata": {
    "collapsed": false,
    "pycharm": {
     "name": "#%%\n"
    }
   }
  },
  {
   "cell_type": "code",
   "execution_count": 116,
   "outputs": [
    {
     "data": {
      "text/plain": "PCA(n_components=7, svd_solver='full')"
     },
     "execution_count": 116,
     "metadata": {},
     "output_type": "execute_result"
    }
   ],
   "source": [
    "X = data.values\n",
    "pca = PCA(n_components=7, svd_solver='full')\n",
    "pca.fit(X)"
   ],
   "metadata": {
    "collapsed": false,
    "pycharm": {
     "name": "#%%\n"
    }
   }
  },
  {
   "cell_type": "code",
   "execution_count": 118,
   "outputs": [
    {
     "data": {
      "text/plain": "array([0.39876275, 0.29535748, 0.22147206, 0.0379499 , 0.02637627,\n       0.01163677, 0.00844478])"
     },
     "execution_count": 118,
     "metadata": {},
     "output_type": "execute_result"
    }
   ],
   "source": [
    "pca.explained_variance_ratio_"
   ],
   "metadata": {
    "collapsed": false,
    "pycharm": {
     "name": "#%%\n"
    }
   }
  },
  {
   "cell_type": "code",
   "execution_count": 119,
   "outputs": [],
   "source": [
    "data = data.drop([3, 6], axis=1)"
   ],
   "metadata": {
    "collapsed": false,
    "pycharm": {
     "name": "#%%\n"
    }
   }
  },
  {
   "cell_type": "code",
   "execution_count": 120,
   "outputs": [],
   "source": [
    "X = data.values"
   ],
   "metadata": {
    "collapsed": false,
    "pycharm": {
     "name": "#%%\n"
    }
   }
  },
  {
   "cell_type": "code",
   "execution_count": 121,
   "outputs": [],
   "source": [
    "from sklearn.model_selection import train_test_split\n",
    "X_train, X_test, y_train, y_test = train_test_split(X, y, test_size=0.2, random_state=42)"
   ],
   "metadata": {
    "collapsed": false,
    "pycharm": {
     "name": "#%%\n"
    }
   }
  },
  {
   "cell_type": "markdown",
   "source": [
    "## Start finding best model"
   ],
   "metadata": {
    "collapsed": false,
    "pycharm": {
     "name": "#%% md\n"
    }
   }
  },
  {
   "cell_type": "code",
   "execution_count": 122,
   "outputs": [],
   "source": [
    "import lazypredict\n",
    "from lazypredict.Supervised import LazyClassifier"
   ],
   "metadata": {
    "collapsed": false,
    "pycharm": {
     "name": "#%%\n"
    }
   }
  },
  {
   "cell_type": "code",
   "execution_count": 123,
   "outputs": [
    {
     "name": "stderr",
     "output_type": "stream",
     "text": [
      "100%|██████████| 29/29 [00:01<00:00, 22.39it/s]\n"
     ]
    },
    {
     "data": {
      "text/plain": "                               Accuracy  Balanced Accuracy  ROC AUC  F1 Score  \\\nModel                                                                           \nPassiveAggressiveClassifier        0.73               0.77     0.77      0.74   \nNearestCentroid                    0.74               0.72     0.72      0.75   \nRandomForestClassifier             0.79               0.71     0.71      0.79   \nSGDClassifier                      0.79               0.70     0.70      0.78   \nExtraTreesClassifier               0.77               0.70     0.70      0.77   \nDecisionTreeClassifier             0.77               0.69     0.69      0.76   \nBaggingClassifier                  0.77               0.68     0.68      0.77   \nLGBMClassifier                     0.79               0.68     0.68      0.77   \nLinearDiscriminantAnalysis         0.79               0.66     0.66      0.77   \nXGBClassifier                      0.78               0.66     0.66      0.76   \nSVC                                0.79               0.66     0.66      0.77   \nExtraTreeClassifier                0.73               0.64     0.64      0.72   \nKNeighborsClassifier               0.77               0.64     0.64      0.74   \nLogisticRegression                 0.78               0.63     0.63      0.75   \nLabelSpreading                     0.77               0.63     0.63      0.74   \nLabelPropagation                   0.76               0.63     0.63      0.74   \nRidgeClassifier                    0.77               0.62     0.62      0.74   \nLinearSVC                          0.77               0.62     0.62      0.74   \nCalibratedClassifierCV             0.77               0.62     0.62      0.74   \nNuSVC                              0.78               0.62     0.62      0.74   \nAdaBoostClassifier                 0.76               0.62     0.62      0.74   \nRidgeClassifierCV                  0.77               0.62     0.62      0.74   \nBernoulliNB                        0.77               0.62     0.62      0.74   \nQuadraticDiscriminantAnalysis      0.76               0.62     0.62      0.73   \nDummyClassifier                    0.66               0.56     0.56      0.66   \nGaussianNB                         0.73               0.56     0.56      0.69   \nPerceptron                         0.71               0.55     0.55      0.68   \n\n                               Time Taken  \nModel                                      \nPassiveAggressiveClassifier          0.01  \nNearestCentroid                      0.01  \nRandomForestClassifier               0.21  \nSGDClassifier                        0.03  \nExtraTreesClassifier                 0.16  \nDecisionTreeClassifier               0.01  \nBaggingClassifier                    0.03  \nLGBMClassifier                       0.10  \nLinearDiscriminantAnalysis           0.02  \nXGBClassifier                        0.09  \nSVC                                  0.03  \nExtraTreeClassifier                  0.01  \nKNeighborsClassifier                 0.02  \nLogisticRegression                   0.01  \nLabelSpreading                       0.06  \nLabelPropagation                     0.06  \nRidgeClassifier                      0.01  \nLinearSVC                            0.05  \nCalibratedClassifierCV               0.16  \nNuSVC                                0.04  \nAdaBoostClassifier                   0.09  \nRidgeClassifierCV                    0.01  \nBernoulliNB                          0.01  \nQuadraticDiscriminantAnalysis        0.01  \nDummyClassifier                      0.01  \nGaussianNB                           0.01  \nPerceptron                           0.01  ",
      "text/html": "<div>\n<style scoped>\n    .dataframe tbody tr th:only-of-type {\n        vertical-align: middle;\n    }\n\n    .dataframe tbody tr th {\n        vertical-align: top;\n    }\n\n    .dataframe thead th {\n        text-align: right;\n    }\n</style>\n<table border=\"1\" class=\"dataframe\">\n  <thead>\n    <tr style=\"text-align: right;\">\n      <th></th>\n      <th>Accuracy</th>\n      <th>Balanced Accuracy</th>\n      <th>ROC AUC</th>\n      <th>F1 Score</th>\n      <th>Time Taken</th>\n    </tr>\n    <tr>\n      <th>Model</th>\n      <th></th>\n      <th></th>\n      <th></th>\n      <th></th>\n      <th></th>\n    </tr>\n  </thead>\n  <tbody>\n    <tr>\n      <th>PassiveAggressiveClassifier</th>\n      <td>0.73</td>\n      <td>0.77</td>\n      <td>0.77</td>\n      <td>0.74</td>\n      <td>0.01</td>\n    </tr>\n    <tr>\n      <th>NearestCentroid</th>\n      <td>0.74</td>\n      <td>0.72</td>\n      <td>0.72</td>\n      <td>0.75</td>\n      <td>0.01</td>\n    </tr>\n    <tr>\n      <th>RandomForestClassifier</th>\n      <td>0.79</td>\n      <td>0.71</td>\n      <td>0.71</td>\n      <td>0.79</td>\n      <td>0.21</td>\n    </tr>\n    <tr>\n      <th>SGDClassifier</th>\n      <td>0.79</td>\n      <td>0.70</td>\n      <td>0.70</td>\n      <td>0.78</td>\n      <td>0.03</td>\n    </tr>\n    <tr>\n      <th>ExtraTreesClassifier</th>\n      <td>0.77</td>\n      <td>0.70</td>\n      <td>0.70</td>\n      <td>0.77</td>\n      <td>0.16</td>\n    </tr>\n    <tr>\n      <th>DecisionTreeClassifier</th>\n      <td>0.77</td>\n      <td>0.69</td>\n      <td>0.69</td>\n      <td>0.76</td>\n      <td>0.01</td>\n    </tr>\n    <tr>\n      <th>BaggingClassifier</th>\n      <td>0.77</td>\n      <td>0.68</td>\n      <td>0.68</td>\n      <td>0.77</td>\n      <td>0.03</td>\n    </tr>\n    <tr>\n      <th>LGBMClassifier</th>\n      <td>0.79</td>\n      <td>0.68</td>\n      <td>0.68</td>\n      <td>0.77</td>\n      <td>0.10</td>\n    </tr>\n    <tr>\n      <th>LinearDiscriminantAnalysis</th>\n      <td>0.79</td>\n      <td>0.66</td>\n      <td>0.66</td>\n      <td>0.77</td>\n      <td>0.02</td>\n    </tr>\n    <tr>\n      <th>XGBClassifier</th>\n      <td>0.78</td>\n      <td>0.66</td>\n      <td>0.66</td>\n      <td>0.76</td>\n      <td>0.09</td>\n    </tr>\n    <tr>\n      <th>SVC</th>\n      <td>0.79</td>\n      <td>0.66</td>\n      <td>0.66</td>\n      <td>0.77</td>\n      <td>0.03</td>\n    </tr>\n    <tr>\n      <th>ExtraTreeClassifier</th>\n      <td>0.73</td>\n      <td>0.64</td>\n      <td>0.64</td>\n      <td>0.72</td>\n      <td>0.01</td>\n    </tr>\n    <tr>\n      <th>KNeighborsClassifier</th>\n      <td>0.77</td>\n      <td>0.64</td>\n      <td>0.64</td>\n      <td>0.74</td>\n      <td>0.02</td>\n    </tr>\n    <tr>\n      <th>LogisticRegression</th>\n      <td>0.78</td>\n      <td>0.63</td>\n      <td>0.63</td>\n      <td>0.75</td>\n      <td>0.01</td>\n    </tr>\n    <tr>\n      <th>LabelSpreading</th>\n      <td>0.77</td>\n      <td>0.63</td>\n      <td>0.63</td>\n      <td>0.74</td>\n      <td>0.06</td>\n    </tr>\n    <tr>\n      <th>LabelPropagation</th>\n      <td>0.76</td>\n      <td>0.63</td>\n      <td>0.63</td>\n      <td>0.74</td>\n      <td>0.06</td>\n    </tr>\n    <tr>\n      <th>RidgeClassifier</th>\n      <td>0.77</td>\n      <td>0.62</td>\n      <td>0.62</td>\n      <td>0.74</td>\n      <td>0.01</td>\n    </tr>\n    <tr>\n      <th>LinearSVC</th>\n      <td>0.77</td>\n      <td>0.62</td>\n      <td>0.62</td>\n      <td>0.74</td>\n      <td>0.05</td>\n    </tr>\n    <tr>\n      <th>CalibratedClassifierCV</th>\n      <td>0.77</td>\n      <td>0.62</td>\n      <td>0.62</td>\n      <td>0.74</td>\n      <td>0.16</td>\n    </tr>\n    <tr>\n      <th>NuSVC</th>\n      <td>0.78</td>\n      <td>0.62</td>\n      <td>0.62</td>\n      <td>0.74</td>\n      <td>0.04</td>\n    </tr>\n    <tr>\n      <th>AdaBoostClassifier</th>\n      <td>0.76</td>\n      <td>0.62</td>\n      <td>0.62</td>\n      <td>0.74</td>\n      <td>0.09</td>\n    </tr>\n    <tr>\n      <th>RidgeClassifierCV</th>\n      <td>0.77</td>\n      <td>0.62</td>\n      <td>0.62</td>\n      <td>0.74</td>\n      <td>0.01</td>\n    </tr>\n    <tr>\n      <th>BernoulliNB</th>\n      <td>0.77</td>\n      <td>0.62</td>\n      <td>0.62</td>\n      <td>0.74</td>\n      <td>0.01</td>\n    </tr>\n    <tr>\n      <th>QuadraticDiscriminantAnalysis</th>\n      <td>0.76</td>\n      <td>0.62</td>\n      <td>0.62</td>\n      <td>0.73</td>\n      <td>0.01</td>\n    </tr>\n    <tr>\n      <th>DummyClassifier</th>\n      <td>0.66</td>\n      <td>0.56</td>\n      <td>0.56</td>\n      <td>0.66</td>\n      <td>0.01</td>\n    </tr>\n    <tr>\n      <th>GaussianNB</th>\n      <td>0.73</td>\n      <td>0.56</td>\n      <td>0.56</td>\n      <td>0.69</td>\n      <td>0.01</td>\n    </tr>\n    <tr>\n      <th>Perceptron</th>\n      <td>0.71</td>\n      <td>0.55</td>\n      <td>0.55</td>\n      <td>0.68</td>\n      <td>0.01</td>\n    </tr>\n  </tbody>\n</table>\n</div>"
     },
     "execution_count": 123,
     "metadata": {},
     "output_type": "execute_result"
    }
   ],
   "source": [
    "clf = LazyClassifier(verbose=0, ignore_warnings=True, custom_metric=None)\n",
    "models,predictions = clf.fit(X_train, X_test, y_train, y_test)\n",
    "models"
   ],
   "metadata": {
    "collapsed": false,
    "pycharm": {
     "name": "#%%\n"
    }
   }
  },
  {
   "cell_type": "code",
   "execution_count": 141,
   "outputs": [],
   "source": [
    "from sklearn.ensemble import RandomForestClassifier\n",
    "from sklearn.metrics import classification_report"
   ],
   "metadata": {
    "collapsed": false,
    "pycharm": {
     "name": "#%%\n"
    }
   }
  },
  {
   "cell_type": "code",
   "execution_count": 157,
   "outputs": [
    {
     "data": {
      "text/plain": "GridSearchCV(cv=5, estimator=RandomForestClassifier(random_state=42),\n             param_grid={'criterion': ['gini', 'entropy'],\n                         'max_depth': [4, 6, 8, 10, 12, 14],\n                         'max_features': ['auto', 'sqrt', 'log2'],\n                         'n_estimators': [10, 50, 100, 200, 500]},\n             scoring='accuracy')"
     },
     "execution_count": 157,
     "metadata": {},
     "output_type": "execute_result"
    }
   ],
   "source": [
    "from sklearn.model_selection import GridSearchCV\n",
    "from sklearn.ensemble import RandomForestClassifier\n",
    "\n",
    "rfc=RandomForestClassifier(random_state=42)\n",
    "param_grid = {\n",
    "    'n_estimators': [10, 50, 100, 200, 500],\n",
    "    'max_features': ['auto', 'sqrt', 'log2'],\n",
    "    'max_depth' : [4, 6, 8, 10, 12, 14],\n",
    "    'criterion' :['gini', 'entropy']\n",
    "}\n",
    "\n",
    "CV_rfc = GridSearchCV(estimator=rfc, param_grid=param_grid, cv= 5, scoring='accuracy')\n",
    "CV_rfc.fit(X_train, y_train)"
   ],
   "metadata": {
    "collapsed": false,
    "pycharm": {
     "name": "#%%\n"
    }
   }
  },
  {
   "cell_type": "code",
   "execution_count": 158,
   "outputs": [
    {
     "data": {
      "text/plain": "{'criterion': 'entropy',\n 'max_depth': 4,\n 'max_features': 'auto',\n 'n_estimators': 100}"
     },
     "execution_count": 158,
     "metadata": {},
     "output_type": "execute_result"
    }
   ],
   "source": [
    "CV_rfc.best_params_"
   ],
   "metadata": {
    "collapsed": false,
    "pycharm": {
     "name": "#%%\n"
    }
   }
  },
  {
   "cell_type": "code",
   "execution_count": 159,
   "outputs": [],
   "source": [
    "rfc1=RandomForestClassifier(random_state=42, max_features=CV_rfc.best_params_[\"max_features\"], n_estimators= CV_rfc.best_params_[\"n_estimators\"], max_depth=CV_rfc.best_params_[\"max_depth\"], criterion=CV_rfc.best_params_[\"criterion\"])"
   ],
   "metadata": {
    "collapsed": false,
    "pycharm": {
     "name": "#%%\n"
    }
   }
  },
  {
   "cell_type": "code",
   "execution_count": 160,
   "outputs": [
    {
     "data": {
      "text/plain": "RandomForestClassifier(criterion='entropy', max_depth=4, random_state=42)"
     },
     "execution_count": 160,
     "metadata": {},
     "output_type": "execute_result"
    }
   ],
   "source": [
    "rfc1.fit(X_train, y_train)"
   ],
   "metadata": {
    "collapsed": false,
    "pycharm": {
     "name": "#%%\n"
    }
   }
  },
  {
   "cell_type": "code",
   "execution_count": 156,
   "outputs": [
    {
     "name": "stdout",
     "output_type": "stream",
     "text": [
      "              precision    recall  f1-score   support\n",
      "\n",
      "           0       0.80      0.95      0.87       192\n",
      "           1       0.71      0.36      0.48        70\n",
      "\n",
      "    accuracy                           0.79       262\n",
      "   macro avg       0.76      0.65      0.67       262\n",
      "weighted avg       0.78      0.79      0.76       262\n",
      "\n"
     ]
    }
   ],
   "source": [
    "print(classification_report(y_test, rfc1.predict(X_test)))"
   ],
   "metadata": {
    "collapsed": false,
    "pycharm": {
     "name": "#%%\n"
    }
   }
  },
  {
   "cell_type": "code",
   "execution_count": null,
   "outputs": [],
   "source": [],
   "metadata": {
    "collapsed": false,
    "pycharm": {
     "name": "#%%\n"
    }
   }
  }
 ],
 "metadata": {
  "kernelspec": {
   "display_name": "Python 3",
   "language": "python",
   "name": "python3"
  },
  "language_info": {
   "codemirror_mode": {
    "name": "ipython",
    "version": 2
   },
   "file_extension": ".py",
   "mimetype": "text/x-python",
   "name": "python",
   "nbconvert_exporter": "python",
   "pygments_lexer": "ipython2",
   "version": "2.7.6"
  }
 },
 "nbformat": 4,
 "nbformat_minor": 0
}